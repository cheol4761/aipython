{
  "nbformat": 4,
  "nbformat_minor": 0,
  "metadata": {
    "colab": {
      "provenance": []
    },
    "kernelspec": {
      "name": "python3",
      "display_name": "Python 3"
    },
    "language_info": {
      "name": "python"
    }
  },
  "cells": [
    {
      "cell_type": "code",
      "execution_count": null,
      "metadata": {
        "colab": {
          "base_uri": "https://localhost:8080/"
        },
        "id": "Xk5j6DCYcUJl",
        "outputId": "8d197d39-134c-48b9-d0ac-330af8258713"
      },
      "outputs": [
        {
          "output_type": "stream",
          "name": "stdout",
          "text": [
            "홍길동\n"
          ]
        }
      ],
      "source": [
        "name = '홍길동'\n",
        "age = 18\n",
        "print(name)"
      ]
    },
    {
      "cell_type": "code",
      "source": [
        "c = 10\n",
        "b = c\n",
        "a = b\n",
        "print(a,b,c)"
      ],
      "metadata": {
        "colab": {
          "base_uri": "https://localhost:8080/"
        },
        "id": "FJgYJN7jdR6f",
        "outputId": "431a03ce-68f3-4d1e-d3d7-324e8c38c798"
      },
      "execution_count": 54,
      "outputs": [
        {
          "output_type": "stream",
          "name": "stdout",
          "text": [
            "10 10 10\n"
          ]
        }
      ]
    },
    {
      "cell_type": "code",
      "source": [
        "a -= b\n",
        "print(a)"
      ],
      "metadata": {
        "colab": {
          "base_uri": "https://localhost:8080/"
        },
        "id": "u2_sR26tdb3P",
        "outputId": "4775fa0a-840c-47fe-8148-bf71c2d7cee2"
      },
      "execution_count": null,
      "outputs": [
        {
          "output_type": "stream",
          "name": "stdout",
          "text": [
            "0\n"
          ]
        }
      ]
    },
    {
      "cell_type": "code",
      "source": [
        "a =7\n",
        "b =11\n",
        "c = a\n",
        "a = b\n",
        "b = c\n",
        "print(a,b)"
      ],
      "metadata": {
        "colab": {
          "base_uri": "https://localhost:8080/"
        },
        "id": "SNgFM2dtil3g",
        "outputId": "cf2a906d-449f-463f-b3c1-f879efc15b6a"
      },
      "execution_count": 18,
      "outputs": [
        {
          "output_type": "stream",
          "name": "stdout",
          "text": [
            "11 7\n"
          ]
        }
      ]
    },
    {
      "cell_type": "code",
      "source": [
        "a = 0\n",
        "for i in range(5):\n",
        "    a += 3\n",
        "    print(a)"
      ],
      "metadata": {
        "colab": {
          "base_uri": "https://localhost:8080/"
        },
        "id": "yPhoUDwFkNFP",
        "outputId": "7e85b41f-d3f5-4ad9-94b3-ffabe78183d4"
      },
      "execution_count": 22,
      "outputs": [
        {
          "output_type": "stream",
          "name": "stdout",
          "text": [
            "3\n",
            "6\n",
            "9\n",
            "12\n",
            "15\n"
          ]
        }
      ]
    },
    {
      "cell_type": "code",
      "source": [
        "type(name)"
      ],
      "metadata": {
        "colab": {
          "base_uri": "https://localhost:8080/"
        },
        "id": "no1AoT68k6Cn",
        "outputId": "b47a5c2e-4df7-4a31-e023-97cc74c9f554"
      },
      "execution_count": 25,
      "outputs": [
        {
          "output_type": "execute_result",
          "data": {
            "text/plain": [
              "str"
            ]
          },
          "metadata": {},
          "execution_count": 25
        }
      ]
    },
    {
      "cell_type": "code",
      "source": [
        "\n",
        "a = 20\n",
        "b = 0o34\n",
        "c = 0xA1\n",
        "d = 0b1110\n",
        "\n",
        "print (a,b,c,d)\n"
      ],
      "metadata": {
        "colab": {
          "base_uri": "https://localhost:8080/"
        },
        "id": "OLiGgqh7qCeg",
        "outputId": "36c3c313-2f0b-432e-8082-40551c87c65c"
      },
      "execution_count": 27,
      "outputs": [
        {
          "output_type": "stream",
          "name": "stdout",
          "text": [
            "20 28 161 14\n"
          ]
        }
      ]
    },
    {
      "cell_type": "code",
      "source": [
        "ba = a < 10\n",
        "print(ba)\n",
        "type(ba)"
      ],
      "metadata": {
        "colab": {
          "base_uri": "https://localhost:8080/"
        },
        "id": "bXAJiUAdsUAB",
        "outputId": "44006542-24bc-4a8c-c9aa-52a64e103674"
      },
      "execution_count": 29,
      "outputs": [
        {
          "output_type": "stream",
          "name": "stdout",
          "text": [
            "False\n"
          ]
        },
        {
          "output_type": "execute_result",
          "data": {
            "text/plain": [
              "bool"
            ]
          },
          "metadata": {},
          "execution_count": 29
        }
      ]
    },
    {
      "cell_type": "code",
      "source": [
        "str_a = \"Hi \"\n",
        "str_b = \"Python\"\n",
        "print(str_a + str_b)"
      ],
      "metadata": {
        "colab": {
          "base_uri": "https://localhost:8080/"
        },
        "id": "IruAvh_Ms_kn",
        "outputId": "190b15f9-c817-4181-ca88-a9929ab4de58"
      },
      "execution_count": 31,
      "outputs": [
        {
          "output_type": "stream",
          "name": "stdout",
          "text": [
            "Hi Python\n"
          ]
        }
      ]
    },
    {
      "cell_type": "code",
      "source": [
        "int_a = 10\n",
        "str_a = \"10\"\n",
        "str_b = \"Hi\"\n",
        "print(str_a + str_b)"
      ],
      "metadata": {
        "colab": {
          "base_uri": "https://localhost:8080/"
        },
        "id": "RbYipw8gtcYo",
        "outputId": "be2cb2f4-fa33-4629-83ce-970e1c2dc5f4"
      },
      "execution_count": 35,
      "outputs": [
        {
          "output_type": "stream",
          "name": "stdout",
          "text": [
            "10 Hi\n"
          ]
        }
      ]
    },
    {
      "cell_type": "code",
      "source": [
        "print(int(str_a) + 5)\n",
        "\n"
      ],
      "metadata": {
        "colab": {
          "base_uri": "https://localhost:8080/"
        },
        "id": "JPlp09Gbt014",
        "outputId": "febc190f-96ea-4fca-e0c6-d984b9a48c31"
      },
      "execution_count": 40,
      "outputs": [
        {
          "output_type": "stream",
          "name": "stdout",
          "text": [
            "15\n"
          ]
        }
      ]
    },
    {
      "cell_type": "code",
      "source": [
        "c= 10 + float(int_a)\n",
        "print(c, end=\"\")\n",
        "print(int(c))"
      ],
      "metadata": {
        "colab": {
          "base_uri": "https://localhost:8080/"
        },
        "id": "T7PeEftouue4",
        "outputId": "feb844da-839e-408a-9ed8-0665dd92681f"
      },
      "execution_count": 58,
      "outputs": [
        {
          "output_type": "stream",
          "name": "stdout",
          "text": [
            "15.015\n"
          ]
        }
      ]
    },
    {
      "cell_type": "code",
      "source": [
        "name = input(\"이름을 입력하시오 : \")\n",
        "age = int(input(\"나이를 입력하시오 : \"))\n",
        "print(name)\n",
        "print(age)"
      ],
      "metadata": {
        "colab": {
          "base_uri": "https://localhost:8080/"
        },
        "id": "meDNI6FQvKYQ",
        "outputId": "fa616591-cb18-49c4-9557-111f1e693883"
      },
      "execution_count": 49,
      "outputs": [
        {
          "output_type": "stream",
          "name": "stdout",
          "text": [
            "이름을 입력하시오 : qwe\n",
            "나이를 입력하시오 : 123\n",
            "qwe\n",
            "123\n"
          ]
        }
      ]
    },
    {
      "cell_type": "code",
      "source": [
        "type(age)"
      ],
      "metadata": {
        "colab": {
          "base_uri": "https://localhost:8080/"
        },
        "id": "QSKSKMF4wCk4",
        "outputId": "1572a9b4-58f1-4bc9-c47c-2bcfe1b9cdf9"
      },
      "execution_count": 50,
      "outputs": [
        {
          "output_type": "execute_result",
          "data": {
            "text/plain": [
              "int"
            ]
          },
          "metadata": {},
          "execution_count": 50
        }
      ]
    },
    {
      "cell_type": "code",
      "source": [
        "age = int(age) + 2\n",
        "print(age)"
      ],
      "metadata": {
        "colab": {
          "base_uri": "https://localhost:8080/"
        },
        "id": "PqDXmYqgwTxY",
        "outputId": "ffde1641-44ee-4232-e425-2d1ac513462f"
      },
      "execution_count": 51,
      "outputs": [
        {
          "output_type": "stream",
          "name": "stdout",
          "text": [
            "125\n"
          ]
        }
      ]
    },
    {
      "cell_type": "code",
      "source": [
        "int_a = int(input(\"첫 번째 숫자 입력 : \"))\n",
        "int_b = int(input(\"두 번째 숫자 입력 : \"))\n",
        "print(int_a -int_b)"
      ],
      "metadata": {
        "colab": {
          "base_uri": "https://localhost:8080/"
        },
        "id": "VgVSmtMyxJRh",
        "outputId": "2298c1aa-0c78-4c19-9455-edcc830bd13f"
      },
      "execution_count": 53,
      "outputs": [
        {
          "output_type": "stream",
          "name": "stdout",
          "text": [
            "첫 번째 숫자 입력 : 5\n",
            "두 번째 숫자 입력 : 10\n",
            "-5\n"
          ]
        }
      ]
    },
    {
      "cell_type": "code",
      "source": [],
      "metadata": {
        "id": "swticdAtz1JB"
      },
      "execution_count": null,
      "outputs": []
    },
    {
      "cell_type": "code",
      "metadata": {
        "colab": {
          "base_uri": "https://localhost:8080/"
        },
        "id": "299f806a",
        "outputId": "ce9dbe37-1c93-4cac-ed79-dfd71e8ddbab"
      },
      "source": [
        "# Example 1: Simple f-string\n",
        "name = \"Alice\"\n",
        "age = 30\n",
        "print(f\"My name is {name} and I am {age} years old.\")\n",
        "\n",
        "# Example 2: Using expressions inside f-strings\n",
        "x = 10\n",
        "y = 5\n",
        "print(f\"The sum of {x} and {y} is {x + y}.\")\n",
        "print(f\"Half of {x} is {x / 2}.\")"
      ],
      "execution_count": 59,
      "outputs": [
        {
          "output_type": "stream",
          "name": "stdout",
          "text": [
            "My name is Alice and I am 30 years old.\n",
            "The sum of 10 and 5 is 15.\n",
            "Half of 10 is 5.0.\n"
          ]
        }
      ]
    },
    {
      "cell_type": "code",
      "source": [
        "radius = int(input(\"반지름을 입력하시오 : \"))\n",
        "circle = radius * radius * 3.141592\n",
        "print(f\"입력하신 반지름은 {radius} 이며 원의 넓이는 {circle:.2f} 입니다.\")"
      ],
      "metadata": {
        "colab": {
          "base_uri": "https://localhost:8080/"
        },
        "id": "f81sH2D31S7j",
        "outputId": "e833e88e-d1b2-4d5d-d0be-139916bcaa8c"
      },
      "execution_count": 65,
      "outputs": [
        {
          "output_type": "stream",
          "name": "stdout",
          "text": [
            "반지름을 입력하시오 : 3\n",
            "입력하신 반지름은 3 이며 원의 넓이는 28.27 입니다.\n"
          ]
        }
      ]
    }
  ]
}
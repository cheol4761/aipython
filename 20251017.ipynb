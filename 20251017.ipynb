{
  "nbformat": 4,
  "nbformat_minor": 0,
  "metadata": {
    "colab": {
      "provenance": [],
      "toc_visible": true
    },
    "kernelspec": {
      "name": "python3",
      "display_name": "Python 3"
    },
    "language_info": {
      "name": "python"
    }
  },
  "cells": [
    {
      "cell_type": "code",
      "source": [
        "def CalBMI(tall, weight):\n",
        "  BMI = weight / (tall/100)**2\n",
        "  return round(BMI,2)"
      ],
      "metadata": {
        "id": "TAiKXt0ds4U0"
      },
      "execution_count": null,
      "outputs": []
    },
    {
      "cell_type": "code",
      "source": [
        "tall = float(input(\"키를 입력해 주세요(cm) : \"))\n",
        "weight = float(input(\"몸무게를 입력해 주세요(kg) : \"))\n",
        "\n",
        "print(f\"당신의 BMI는 : {CalBMI(tall,weight)} 입니다\")\n"
      ],
      "metadata": {
        "colab": {
          "base_uri": "https://localhost:8080/"
        },
        "id": "MaMCbgB3sgQE",
        "outputId": "bd5d905c-b336-405d-bc08-016f47ef6881"
      },
      "execution_count": null,
      "outputs": [
        {
          "output_type": "stream",
          "name": "stdout",
          "text": [
            "키를 입력해 주세요(cm) : 187\n",
            "몸무게를 입력해 주세요(kg) : 102.0\n",
            "당신의 BMI는 : 29.17 입니다\n"
          ]
        }
      ]
    },
    {
      "cell_type": "code",
      "source": [
        "A,B = map(int,input().split())\n",
        "while True:\n",
        "    if A > 0:\n",
        "       if B < 10:\n",
        "           break\n",
        "       else:\n",
        "         B =(int)(input())\n",
        "    else:\n",
        "      A =(int)(input())\n",
        "print(A+B)\n",
        "\n"
      ],
      "metadata": {
        "id": "SoigXSqK1TAD",
        "colab": {
          "base_uri": "https://localhost:8080/"
        },
        "outputId": "675d2834-7992-4243-ff20-d2c279c3cfac"
      },
      "execution_count": 43,
      "outputs": [
        {
          "output_type": "stream",
          "name": "stdout",
          "text": [
            "5 10\n",
            "5\n",
            "10\n"
          ]
        }
      ]
    },
    {
      "cell_type": "code",
      "source": [
        "txt = \"apple#banana#cherry#orange\"\n",
        "x = txt.split(\"#\")\n",
        "print(x)"
      ],
      "metadata": {
        "colab": {
          "base_uri": "https://localhost:8080/"
        },
        "id": "IdamP-nc5kda",
        "outputId": "9aad8daa-e5bc-4eeb-c201-4cf84d173d36"
      },
      "execution_count": 44,
      "outputs": [
        {
          "output_type": "stream",
          "name": "stdout",
          "text": [
            "['apple', 'banana', 'cherry', 'orange']\n"
          ]
        }
      ]
    },
    {
      "cell_type": "code",
      "source": [
        "words = ['Hello', 'world', 'this', 'is', 'a', 'test']\n",
        "sentence = ' '.join(words)\n",
        "print(sentence)"
      ],
      "metadata": {
        "colab": {
          "base_uri": "https://localhost:8080/"
        },
        "id": "gaN_isYX5nea",
        "outputId": "938e2c72-bdd4-4c7a-9a6b-5dcb58ba06c1"
      },
      "execution_count": 45,
      "outputs": [
        {
          "output_type": "stream",
          "name": "stdout",
          "text": [
            "Hello world this is a test\n"
          ]
        }
      ]
    },
    {
      "cell_type": "code",
      "source": [
        "email = \"user@example.com\"\n",
        "username, domain = email.split(\"@\")\n",
        "print(f\"사용자명: {username}, 도메인: {domain}\")"
      ],
      "metadata": {
        "colab": {
          "base_uri": "https://localhost:8080/"
        },
        "id": "bpvp3y1_6FVK",
        "outputId": "c278aec5-2df6-43c3-ab1c-10fe10191508"
      },
      "execution_count": 46,
      "outputs": [
        {
          "output_type": "stream",
          "name": "stdout",
          "text": [
            "사용자명: user, 도메인: example.com\n"
          ]
        }
      ]
    },
    {
      "cell_type": "code",
      "source": [
        "csv_data = \"김철수,30,서울,개발자\"\n",
        "data_list = csv_data.split(\",\")\n",
        "print(f\"분리된 데이터: {data_list}\")\n"
      ],
      "metadata": {
        "colab": {
          "base_uri": "https://localhost:8080/"
        },
        "id": "o-5HJXbn6Nsh",
        "outputId": "876b9293-50ac-47f1-f6e4-bfd2b7251326"
      },
      "execution_count": 47,
      "outputs": [
        {
          "output_type": "stream",
          "name": "stdout",
          "text": [
            "분리된 데이터: ['김철수', '30', '서울', '개발자']\n"
          ]
        }
      ]
    },
    {
      "cell_type": "code",
      "source": [
        "folders = [\"home\", \"user\", \"documents\", \"project\"]\n",
        "path = \"/\".join(folders)\n",
        "print(f\"경로: {path}\")"
      ],
      "metadata": {
        "colab": {
          "base_uri": "https://localhost:8080/"
        },
        "id": "s6LkyoKx6YXZ",
        "outputId": "2c212503-184f-40d2-b7a3-e7d6ad84ec0d"
      },
      "execution_count": 49,
      "outputs": [
        {
          "output_type": "stream",
          "name": "stdout",
          "text": [
            "경로: home/user/documents/project\n"
          ]
        }
      ]
    },
    {
      "cell_type": "code",
      "source": [
        "words = [\"Python\", \"is\", \"awesome\"]\n",
        "sentence = \" \".join(words)\n",
        "print(f\"문장: {sentence}\")"
      ],
      "metadata": {
        "colab": {
          "base_uri": "https://localhost:8080/"
        },
        "id": "cb0_-oyW6iK5",
        "outputId": "97150783-b244-4029-f390-8f14e0c4c164"
      },
      "execution_count": 50,
      "outputs": [
        {
          "output_type": "stream",
          "name": "stdout",
          "text": [
            "문장: Python is awesome\n"
          ]
        }
      ]
    },
    {
      "cell_type": "code",
      "source": [
        "multiples_of_3 = [x for x in range(1, 21) if x % 3 == 0]\n",
        "print(f\"3의 배수: {multiples_of_3}\")"
      ],
      "metadata": {
        "colab": {
          "base_uri": "https://localhost:8080/"
        },
        "id": "bSBOoHbN7nwK",
        "outputId": "7fefffe2-654f-4315-d800-26f655cd8136"
      },
      "execution_count": 51,
      "outputs": [
        {
          "output_type": "stream",
          "name": "stdout",
          "text": [
            "3의 배수: [3, 6, 9, 12, 15, 18]\n"
          ]
        }
      ]
    },
    {
      "cell_type": "code",
      "source": [
        "fruits = [\"apple\", \"banana\", \"cherry\"]\n",
        "upper_fruits = [fruit.upper() for fruit in fruits]\n",
        "print(f\"대문자 과일: {upper_fruits}\")"
      ],
      "metadata": {
        "colab": {
          "base_uri": "https://localhost:8080/"
        },
        "id": "ybuv7fxw8jHj",
        "outputId": "ef969857-0767-40e7-bec1-e5c620521e72"
      },
      "execution_count": 52,
      "outputs": [
        {
          "output_type": "stream",
          "name": "stdout",
          "text": [
            "대문자 과일: ['APPLE', 'BANANA', 'CHERRY']\n"
          ]
        }
      ]
    },
    {
      "cell_type": "code",
      "source": [
        "words = [\"Python\", \"is\", \"powerful\"]\n",
        "word_lengths = [len(word) for word in words]\n",
        "print(f\"단어 길이: {word_lengths}\")"
      ],
      "metadata": {
        "colab": {
          "base_uri": "https://localhost:8080/"
        },
        "id": "kiW87OAQ82yh",
        "outputId": "97dea199-cff8-44ed-d7d7-f57675d33e0a"
      },
      "execution_count": 57,
      "outputs": [
        {
          "output_type": "stream",
          "name": "stdout",
          "text": [
            "단어 길이: [6, 2, 8]\n"
          ]
        }
      ]
    },
    {
      "cell_type": "code",
      "source": [
        "numbers = [1, 2, 3, 4, 5, 6]\n",
        "processed = [x**2 if x % 2 == 0 else x for x in numbers]\n",
        "print(f\"처리된 숫자: {processed}\")"
      ],
      "metadata": {
        "colab": {
          "base_uri": "https://localhost:8080/"
        },
        "id": "bol3LhvI9qpJ",
        "outputId": "20bd4b8e-10ca-40b3-99e3-78b1794b1fd7"
      },
      "execution_count": 58,
      "outputs": [
        {
          "output_type": "stream",
          "name": "stdout",
          "text": [
            "처리된 숫자: [1, 4, 3, 16, 5, 36]\n"
          ]
        }
      ]
    },
    {
      "cell_type": "code",
      "source": [
        "scores = [95, 87, 92, 88]\n",
        "\n",
        "sorted_scores = sorted(scores, reverse=True)\n",
        "\n",
        "print(\"성적 순위:\")\n",
        "\n",
        "for rank, score in enumerate(sorted_scores, start=1):\n",
        "  print(f\" {rank}등: {score}점\")"
      ],
      "metadata": {
        "colab": {
          "base_uri": "https://localhost:8080/"
        },
        "id": "CQG5AbiD-tlp",
        "outputId": "d28b6f66-6ec2-449e-cfe6-db5b3aac0cd5"
      },
      "execution_count": 61,
      "outputs": [
        {
          "output_type": "stream",
          "name": "stdout",
          "text": [
            "성적 순위:\n",
            " 1등: 95점\n",
            " 2등: 92점\n",
            " 3등: 88점\n",
            " 4등: 87점\n"
          ]
        }
      ]
    },
    {
      "cell_type": "code",
      "source": [
        "keys = [\"name\", \"age\", \"city\"]\n",
        "values = [\"홍길동\", 25, \"부산\"]\n",
        "person_dict = dict(zip(keys, values))\n",
        "print(f\"\\n딕셔너리: {person_dict}\")"
      ],
      "metadata": {
        "colab": {
          "base_uri": "https://localhost:8080/"
        },
        "id": "ZVcTeyTE_yYx",
        "outputId": "22179009-9a9e-4416-c4b1-c3d03edcb023"
      },
      "execution_count": 62,
      "outputs": [
        {
          "output_type": "stream",
          "name": "stdout",
          "text": [
            "\n",
            "딕셔너리: {'name': '홍길동', 'age': 25, 'city': '부산'}\n"
          ]
        }
      ]
    },
    {
      "cell_type": "code",
      "source": [
        "celsius = [0, 10, 20, 30, 40]\n",
        "fahrenheit = list(map(lambda x : x * 9/5 + 32, celsius))\n",
        "\n",
        "print(f\"섭씨: {celsius}\")\n",
        "print(f\"화씨: {fahrenheit}\")"
      ],
      "metadata": {
        "colab": {
          "base_uri": "https://localhost:8080/"
        },
        "id": "AgPpy9oxBDmx",
        "outputId": "0c7c91b9-36f0-4841-d233-f3f039359797"
      },
      "execution_count": 69,
      "outputs": [
        {
          "output_type": "stream",
          "name": "stdout",
          "text": [
            "섭씨: [0, 10, 20, 30, 40]\n",
            "화씨: [32.0, 50.0, 68.0, 86.0, 104.0]\n"
          ]
        }
      ]
    },
    {
      "cell_type": "code",
      "source": [
        "numbers = [-5, 3, -1, 8, 0, -3, 7]\n",
        "positive = list(filter(lambda x : x > 0, numbers))\n",
        "print(f\"전체 숫자: {numbers}\")\n",
        "print(f\"양수만: {positive}\")\n"
      ],
      "metadata": {
        "colab": {
          "base_uri": "https://localhost:8080/"
        },
        "id": "SMhkqXtPCx6h",
        "outputId": "f65a0250-eb31-4102-b43c-b8139fa520ea"
      },
      "execution_count": 71,
      "outputs": [
        {
          "output_type": "stream",
          "name": "stdout",
          "text": [
            "전체 숫자: [-5, 3, -1, 8, 0, -3, 7]\n",
            "양수만: [3, 8, 7]\n"
          ]
        }
      ]
    },
    {
      "cell_type": "code",
      "source": [
        "words = [\"hi\", \"hello\", \"python\", \"code\", \"programming\"]\n",
        "\n",
        "long_words = list(filter(lambda x : len(x) >= 5, words))\n",
        "\n",
        "print(f\"\\n전체 단어: {words}\")\n",
        "print(f\"긴 단어: {long_words}\")\n"
      ],
      "metadata": {
        "colab": {
          "base_uri": "https://localhost:8080/"
        },
        "id": "wFtlEAHFDJqo",
        "outputId": "57ab1e7f-d4a5-4b44-ec5b-861105ef52dc"
      },
      "execution_count": 72,
      "outputs": [
        {
          "output_type": "stream",
          "name": "stdout",
          "text": [
            "\n",
            "전체 단어: ['hi', 'hello', 'python', 'code', 'programming']\n",
            "긴 단어: ['hello', 'python', 'programming']\n"
          ]
        }
      ]
    }
  ]
}